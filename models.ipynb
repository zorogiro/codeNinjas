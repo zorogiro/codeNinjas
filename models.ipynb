{
  "cells": [
    {
      "cell_type": "markdown",
      "metadata": {
        "id": "view-in-github",
        "colab_type": "text"
      },
      "source": [
        "<a href=\"https://colab.research.google.com/github/zorogiro/codeNinjas/blob/main/models.ipynb\" target=\"_parent\"><img src=\"https://colab.research.google.com/assets/colab-badge.svg\" alt=\"Open In Colab\"/></a>"
      ]
    },
    {
      "cell_type": "code",
      "source": [
        "import pandas as pd\n",
        "from sklearn.tree import DecisionTreeRegressor\n",
        "\n",
        "# Load the dataset\n",
        "data = pd.read_csv('fileMoc.csv')\n",
        "\n",
        "\n",
        "# Separate the input features and target variable\n",
        "X = data[['experience', 'Paysdorigine ', 'Capacitefinanciere', 'competencelinguistique']]\n",
        "y = data['moyenne']+ data['competencelinguistique']\n",
        "\n",
        "\n",
        "# One-hot encode categorical features\n",
        "X = pd.get_dummies(X,columns=['Paysdorigine ', 'competencelinguistique'])\n",
        "\n",
        "# Fit the decision tree model\n",
        "model = DecisionTreeRegressor(random_state=42)\n",
        "model.fit(X, y)\n",
        "\n",
        "# Predict the top 10 candidate IDs for a new set of input features\n",
        "new_data = pd.DataFrame({'moyenne': [17], 'experience': [4], 'Paysdorigine': ['United States'], 'Capacitefinanciere': [100], 'competencelinguistique': ['Danish']})\n",
        "new_data = pd.get_dummies(new_data,columns=['Paysdorigine','competencelinguistique'])\n",
        "new_data = new_data.reindex(columns=X.columns, fill_value=0)\n",
        "predictions = model.predict(new_data)\n",
        "\n",
        "# Get the top 10 candidate IDs from the original dataset\n",
        "data_sorted = data.sort_values(by=['moyenne','competencelinguistique'], ascending=False)\n",
        "\n",
        "# Recommander les annonces ayant le plus de potentiel\n",
        "recommandations = data_sorted.head(10)\n",
        "\n",
        "# Afficher les recommandations\n",
        "print(recommandations)\n",
        "\n"
      ],
      "metadata": {
        "id": "xMuGu6bTlWz8"
      },
      "execution_count": null,
      "outputs": []
    },
    {
      "cell_type": "code",
      "source": [
        "import pandas as pd\n",
        "import matplotlib.pyplot as plt\n",
        "from sklearn.linear_model import LinearRegression\n",
        "from sklearn.model_selection import train_test_split\n",
        "from sklearn.metrics import r2_score, mean_squared_error\n",
        "\n",
        "# Load data from CSV file\n",
        "data = pd.read_csv('AnnonceMobilie.csv')\n",
        "\n",
        "# Select features and target variable\n",
        "X = data[['NombreDePlace', 'state', 'categorie']]\n",
        "y = data['LoveReact']\n",
        "\n",
        "# Encode categorical variables using one-hot encoding\n",
        "X = pd.get_dummies(X, columns=['state', 'categorie'])\n",
        "\n",
        "# Split data into training and test sets\n",
        "X_train, X_test, y_train, y_test = train_test_split(X, y, test_size=0.2, random_state=42)\n",
        "\n",
        "# Train a linear regression model on the training set\n",
        "model = LinearRegression()\n",
        "model.fit(X_train, y_train)\n",
        "\n",
        "# Make predictions on the entire dataset\n",
        "data_encoded = pd.get_dummies(data, columns=['state', 'categorie'])\n",
        "missing_cols = set(X_train.columns) - set(data_encoded.columns)\n",
        "for col in missing_cols:\n",
        "    data_encoded[col] = 0\n",
        "data_encoded = data_encoded[X_train.columns]\n",
        "performances = model.predict(data_encoded)\n",
        "\n",
        "# Add performance predictions to the original data\n",
        "data['Performance'] = performances\n",
        "\n",
        "# Sort the data by predicted performance in descending order\n",
        "data_sorted = data.sort_values(by='Performance', ascending=False)\n",
        "\n",
        "# Recommend the top 10 ads with the highest potential\n",
        "recommandations = data_sorted.head(10)\n",
        "\n",
        "# Print the recommendations\n",
        "print(recommandations)\n",
        "\n",
        "# Evaluate the model's performance on the test set\n",
        "y_pred = model.predict(X_test)\n",
        "r2 = r2_score(y_test, y_pred)\n",
        "mse = mean_squared_error(y_test, y_pred)\n",
        "\n",
        "# Print the evaluation metrics\n",
        "print(\"R-squared score on test set:\", r2)\n",
        "print(\"Mean squared error on test set:\", mse)\n",
        "\n",
        "# Plot the actual vs predicted values on the test set\n",
        "plt.scatter(y_test, y_pred)\n",
        "plt.xlabel('Actual LoveReact')\n",
        "plt.ylabel('Predicted LoveReact')\n",
        "plt.show()\n"
      ],
      "metadata": {
        "id": "yR7D0OmCn2wJ"
      },
      "execution_count": null,
      "outputs": []
    }
  ],
  "metadata": {
    "colab": {
      "private_outputs": true,
      "provenance": [],
      "include_colab_link": true
    },
    "kernelspec": {
      "display_name": "Python 3",
      "name": "python3"
    },
    "language_info": {
      "name": "python"
    }
  },
  "nbformat": 4,
  "nbformat_minor": 0
}