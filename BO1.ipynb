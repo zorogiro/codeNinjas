{
  "nbformat": 4,
  "nbformat_minor": 0,
  "metadata": {
    "colab": {
      "provenance": [],
      "include_colab_link": true
    },
    "kernelspec": {
      "name": "python3",
      "display_name": "Python 3"
    },
    "language_info": {
      "name": "python"
    }
  },
  "cells": [
    {
      "cell_type": "markdown",
      "metadata": {
        "id": "view-in-github",
        "colab_type": "text"
      },
      "source": [
        "<a href=\"https://colab.research.google.com/github/zorogiro/codeNinjas/blob/main/BO1.ipynb\" target=\"_parent\"><img src=\"https://colab.research.google.com/assets/colab-badge.svg\" alt=\"Open In Colab\"/></a>"
      ]
    },
    {
      "cell_type": "code",
      "execution_count": null,
      "metadata": {
        "id": "FZQkMfDlWTfH"
      },
      "outputs": [],
      "source": []
    },
    {
      "cell_type": "code",
      "execution_count": 2,
      "metadata": {
        "colab": {
          "base_uri": "https://localhost:8080/"
        },
        "id": "ZGZuw60qZG__",
        "outputId": "149f6a8d-674c-46e5-bf54-f1e33846d1e6"
      },
      "outputs": [
        {
          "output_type": "stream",
          "name": "stdout",
          "text": [
            "       id  moyenne  experience Paysdorigine   Capacitefinanciere  \\\n",
            "122   123      100           2       Tunisia                  14   \n",
            "125   126      100           2       Tunisia                  36   \n",
            "794   795      100           1       Tunisia                  80   \n",
            "28     29      100           1       Tunisia                  68   \n",
            "168   169      100           1       Tunisia                   5   \n",
            "941   942      100           0       Tunisia                  71   \n",
            "976   977      100           1       Tunisia                  24   \n",
            "999  1000      100           2       Tunisia                  62   \n",
            "590   591      100           0       Tunisia                  73   \n",
            "0       1       99           1       Tunisia                  51   \n",
            "\n",
            "     competencelinguistique  \n",
            "122                       5  \n",
            "125                       4  \n",
            "794                       4  \n",
            "28                        3  \n",
            "168                       3  \n",
            "941                       3  \n",
            "976                       3  \n",
            "999                       3  \n",
            "590                       2  \n",
            "0                         3  \n"
          ]
        }
      ],
      "source": [
        "import pandas as pd\n",
        "from sklearn.tree import DecisionTreeRegressor\n",
        "\n",
        "# Load the dataset\n",
        "data = pd.read_csv('fileMoc.csv')\n",
        "\n",
        "\n",
        "# Separate the input features and target variable\n",
        "X = data[['experience', 'Paysdorigine ', 'Capacitefinanciere', 'competencelinguistique']]\n",
        "y = data['moyenne']+ data['competencelinguistique']\n",
        "\n",
        "\n",
        "# One-hot encode categorical features\n",
        "X = pd.get_dummies(X,columns=['Paysdorigine ', 'competencelinguistique'])\n",
        "\n",
        "# Fit the decision tree model\n",
        "model = DecisionTreeRegressor(random_state=42)\n",
        "model.fit(X, y)\n",
        "\n",
        "# Predict the top 10 candidate IDs for a new set of input features\n",
        "new_data = pd.DataFrame({'moyenne': [17], 'experience': [4], 'Paysdorigine': ['United States'], 'Capacitefinanciere': [100], 'competencelinguistique': ['Danish']})\n",
        "new_data = pd.get_dummies(new_data,columns=['Paysdorigine','competencelinguistique'])\n",
        "new_data = new_data.reindex(columns=X.columns, fill_value=0)\n",
        "predictions = model.predict(new_data)\n",
        "\n",
        "# Get the top 10 candidate IDs from the original dataset\n",
        "data_sorted = data.sort_values(by=['moyenne','competencelinguistique'], ascending=False)\n",
        "\n",
        "# Recommander les annonces ayant le plus de potentiel\n",
        "recommandations = data_sorted.head(10)\n",
        "\n",
        "# Afficher les recommandations\n",
        "print(recommandations)\n",
        "\n"
      ]
    }
  ]
}